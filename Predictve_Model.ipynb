{
 "cells": [
  {
   "cell_type": "markdown",
   "metadata": {},
   "source": [
    "Building a Predictive model"
   ]
  },
  {
   "cell_type": "code",
   "execution_count": 7,
   "metadata": {},
   "outputs": [],
   "source": [
    "    #importing dependencies\n",
    "import os\n",
    "import numpy as np\n",
    "import matplotlib.image as mpimg\n",
    "import cv2\n",
    "import matplotlib.pyplot as plt\n",
    "\n",
    "import tensorflow as tf\n",
    "import tensorflow_hub as hub\n",
    "from tensorflow import keras\n",
    "\n"
   ]
  },
  {
   "cell_type": "code",
   "execution_count": 8,
   "metadata": {},
   "outputs": [],
   "source": [
    "mobilenet_model= \"https://tfhub.dev/google/tf2-preview/mobilenet_v2/feature_vector/4\"\n",
    "\n",
    "pretrained_model= hub.KerasLayer(mobilenet_model,input_shape=(224,224,3), trainable=False) "
   ]
  },
  {
   "cell_type": "code",
   "execution_count": 9,
   "metadata": {},
   "outputs": [],
   "source": [
    "# load model\n",
    "\n",
    "model = tf.keras.models.load_model('model.keras',custom_objects={'KerasLayer':pretrained_model})"
   ]
  },
  {
   "cell_type": "code",
   "execution_count": 11,
   "metadata": {},
   "outputs": [
    {
     "name": "stdout",
     "output_type": "stream",
     "text": [
      "1/1 [==============================] - 3s 3s/step\n",
      "The image represents a dog\n"
     ]
    }
   ],
   "source": [
    "input_img_path=input(\"Enter Image path : \")\n",
    "input_img = cv2.imread(input_img_path)\n",
    "\n",
    "cv2.imshow(\"img\",input_img)\n",
    "\n",
    "input_img_resize= cv2.resize(input_img,(224,224))\n",
    "inp_img_scaled= input_img_resize/255\n",
    "\n",
    "img_reshape= np.reshape(inp_img_scaled,[1,224,224,3])\n",
    "pred=model.predict(img_reshape)\n",
    "\n",
    "pred_label= np.argmax(pred)\n",
    "\n",
    "if pred_label==0:\n",
    "    print(\"The image represents a cat\")\n",
    "else:\n",
    "    print(\"The image represents a dog\")\n",
    "\n",
    "\n"
   ]
  },
  {
   "cell_type": "code",
   "execution_count": null,
   "metadata": {},
   "outputs": [],
   "source": []
  }
 ],
 "metadata": {
  "kernelspec": {
   "display_name": ".venv",
   "language": "python",
   "name": "python3"
  },
  "language_info": {
   "codemirror_mode": {
    "name": "ipython",
    "version": 3
   },
   "file_extension": ".py",
   "mimetype": "text/x-python",
   "name": "python",
   "nbconvert_exporter": "python",
   "pygments_lexer": "ipython3",
   "version": "3.10.0"
  },
  "orig_nbformat": 4
 },
 "nbformat": 4,
 "nbformat_minor": 2
}
